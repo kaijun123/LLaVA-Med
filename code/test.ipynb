{
 "cells": [
  {
   "cell_type": "code",
   "execution_count": null,
   "metadata": {},
   "outputs": [],
   "source": [
    "from llava.model.builder import load_pretrained_model\n",
    "from PIL import Image"
   ]
  },
  {
   "cell_type": "markdown",
   "metadata": {},
   "source": [
    "### Pre-trained Model"
   ]
  },
  {
   "cell_type": "code",
   "execution_count": 2,
   "metadata": {},
   "outputs": [],
   "source": [
    "# tokenizer, model, image_processor, context_len = load_pretrained_model(\n",
    "#     model_path='microsoft/llava-med-v1.5-mistral-7b',\n",
    "#     model_base=None,\n",
    "#     model_name='llava-med-v1.5-mistral-7b',\n",
    "#     device='cuda'\n",
    "# )"
   ]
  },
  {
   "cell_type": "code",
   "execution_count": 3,
   "metadata": {},
   "outputs": [],
   "source": [
    "# model.config"
   ]
  },
  {
   "cell_type": "code",
   "execution_count": 4,
   "metadata": {},
   "outputs": [],
   "source": [
    "# from util import create_prompt"
   ]
  },
  {
   "cell_type": "code",
   "execution_count": 5,
   "metadata": {},
   "outputs": [],
   "source": [
    "from llava.constants import DEFAULT_IMAGE_TOKEN, IMAGE_TOKEN_INDEX, DEFAULT_IM_START_TOKEN, DEFAULT_IM_END_TOKEN\n",
    "from llava.mm_utils import (\n",
    "    KeywordsStoppingCriteria,\n",
    "    # get_model_name_from_path,\n",
    "    process_images,\n",
    "    tokenizer_image_token,\n",
    ")\n",
    "from llava.conversation import SeparatorStyle, conv_templates\n",
    "import torch\n",
    "from llava.conversation import SeparatorStyle, conv_templates"
   ]
  },
  {
   "cell_type": "code",
   "execution_count": 6,
   "metadata": {},
   "outputs": [],
   "source": [
    "CONV_MODE = \"mistral_instruct\"\n",
    "def create_prompt(prompt: str):\n",
    "    conv = conv_templates[CONV_MODE].copy()\n",
    "    roles = conv.roles\n",
    "    # prompt = DEFAULT_IMAGE_TOKEN + \"\\n\" + prompt\n",
    "    conv.append_message(roles[0], prompt)\n",
    "    conv.append_message(roles[1], None)\n",
    "    return conv.get_prompt(), conv"
   ]
  },
  {
   "cell_type": "code",
   "execution_count": 7,
   "metadata": {},
   "outputs": [],
   "source": [
    "def get_prediction(model, tokenizer, image_processor, image_url: str, question: str):\n",
    "    image = Image.open(image_url)\n",
    "    image_tensor = process_images([image], image_processor, model.config)[0]\n",
    "    # print(\"image_tensor:\", image_tensor)\n",
    "\n",
    "    question = question.replace(DEFAULT_IMAGE_TOKEN, '').strip()\n",
    "    if model.config.mm_use_im_start_end:\n",
    "        question = DEFAULT_IM_START_TOKEN + DEFAULT_IMAGE_TOKEN + DEFAULT_IM_END_TOKEN + '\\n' + question\n",
    "    else:\n",
    "        question = DEFAULT_IMAGE_TOKEN + '\\n' + question\n",
    "\n",
    "    prompt, conv = create_prompt(question)\n",
    "    print(\"prompt:\", prompt)\n",
    "    print(\"conv:\", conv)\n",
    "\n",
    "    input_ids = (\n",
    "        tokenizer_image_token(prompt, tokenizer, IMAGE_TOKEN_INDEX, return_tensors='pt').unsqueeze(0).to(model.device)\n",
    "    )\n",
    "    # print(\"model.device:\", model.device)\n",
    "    print(\"input_ids:\", input_ids)\n",
    "\n",
    "    stop_str = conv.sep if conv.sep_style != SeparatorStyle.TWO else conv.sep2\n",
    "    # stopping_criteria = KeywordsStoppingCriteria(keywords=[stop_str], tokenizer=tokenizer, input_ids=input_ids)\n",
    "\n",
    "    # taken from model_vqa and the arguments provided in the readme\n",
    "    with torch.inference_mode():\n",
    "        output_ids = model.generate(\n",
    "            input_ids,\n",
    "            images=image_tensor.unsqueeze(0).half().cuda(),\n",
    "            do_sample=False,\n",
    "            temperature=0,\n",
    "            top_p=None,\n",
    "            num_beams=None,\n",
    "            # no_repeat_ngram_size=3,\n",
    "            max_new_tokens=1024,\n",
    "            use_cache=True,\n",
    "        )\n",
    "\n",
    "    outputs = tokenizer.batch_decode(output_ids, skip_special_tokens=True)[0].strip()\n",
    "    return outputs"
   ]
  },
  {
   "cell_type": "code",
   "execution_count": 8,
   "metadata": {},
   "outputs": [],
   "source": [
    "# standard_prompt = \"Analyze the following Chest X-ray image and provide your findings.\"÷\n",
    "# prompt, conversation = create_prompt(standard_prompt)\n",
    "# print(\"prompt\", prompt)\n",
    "# print(\"conversation\", conversation)"
   ]
  },
  {
   "cell_type": "code",
   "execution_count": 9,
   "metadata": {},
   "outputs": [],
   "source": [
    "# image = Image.open(\"./s50000014.jpg\")\n",
    "# image_tensor = process_images([image], image_processor, model.config)[0]"
   ]
  },
  {
   "cell_type": "code",
   "execution_count": 10,
   "metadata": {},
   "outputs": [],
   "source": [
    "# image_url = \"./s50000014.jpg\"\n",
    "# outputs = get_prediction(model=model, tokenizer=tokenizer, image_processor=image_processor, image_url=image_url, question=standard_prompt)"
   ]
  },
  {
   "cell_type": "code",
   "execution_count": null,
   "metadata": {},
   "outputs": [],
   "source": []
  },
  {
   "cell_type": "markdown",
   "metadata": {},
   "source": [
    "### Finetuned Model"
   ]
  },
  {
   "cell_type": "code",
   "execution_count": 11,
   "metadata": {},
   "outputs": [],
   "source": [
    "import json\n",
    "import os"
   ]
  },
  {
   "cell_type": "code",
   "execution_count": null,
   "metadata": {},
   "outputs": [],
   "source": [
    "finetuned_tokenizer, finetuned_model, finetuned_image_processor, finetuned_context_len = load_pretrained_model(\n",
    "    model_path='../checkpoints/train-5k-quantized-4-default',\n",
    "    model_base='microsoft/llava-med-v1.5-mistral-7b',\n",
    "    model_name='train-5k-quantized-4-default',\n",
    "    device='cuda'\n",
    ")"
   ]
  },
  {
   "cell_type": "code",
   "execution_count": null,
   "metadata": {},
   "outputs": [],
   "source": [
    "vision_tower = finetuned_model.get_vision_tower()\n",
    "if not vision_tower.is_loaded:\n",
    "    vision_tower.load_model()\n",
    "vision_tower.to(device=\"cuda\", dtype=torch.float16)\n",
    "finetuned_model.model.mm_projector.to(device=\"cuda\", dtype=torch.float16)\n",
    "finetuned_model.to(device=\"cuda\", dtype=torch.float16)\n",
    "image_processor = vision_tower.image_processor"
   ]
  },
  {
   "cell_type": "code",
   "execution_count": 14,
   "metadata": {},
   "outputs": [],
   "source": [
    "list_data_dict = json.load(\n",
    "    open(\"/home/r11kaijun/MIMIC-CXR/processed_data/train_with_indication_removed_history_5k.json\")\n",
    ")"
   ]
  },
  {
   "cell_type": "code",
   "execution_count": null,
   "metadata": {},
   "outputs": [],
   "source": [
    "image_base_path = \"/home/r11kaijun/physionet.org/files/mimic-cxr-jpg/2.1.0\"\n",
    "results = []\n",
    "count = 0\n",
    "for data in list_data_dict:\n",
    "    image_url = os.path.join(image_base_path, data[\"image\"])\n",
    "    print(image_url)\n",
    "    conv = data[\"conversations\"]\n",
    "    question = conv[0][\"value\"]\n",
    "    ground_truth = conv[1][\"value\"]\n",
    "    prediction = get_prediction(\n",
    "        model=finetuned_model,\n",
    "        tokenizer=finetuned_tokenizer,\n",
    "        image_processor=finetuned_image_processor,\n",
    "        image_url=image_url,\n",
    "        question=question,\n",
    "    )\n",
    "\n",
    "    results.append(\n",
    "      {\n",
    "        \"image\": image_url, \n",
    "        \"ground_truth\": ground_truth, \n",
    "        \"prediction\": prediction\n",
    "      }\n",
    "    )\n",
    "\n",
    "    print(\"ground_truth:\", ground_truth, \"prediction:\", prediction)\n",
    "    count+=1\n",
    "\n",
    "    if count == 10:\n",
    "      break"
   ]
  },
  {
   "cell_type": "code",
   "execution_count": null,
   "metadata": {},
   "outputs": [],
   "source": [
    "results"
   ]
  },
  {
   "cell_type": "code",
   "execution_count": null,
   "metadata": {},
   "outputs": [],
   "source": [
    "# image_url = \"/home/r11kaijun/Indiana-University-Chest-Xrays/raw-data/images/images_normalized/74_IM-2296-2001.dcm.png\"\n",
    "# # \"./s50000014.jpg\"\n",
    "# outputs = get_prediction(model=finetuned_model, tokenizer=finetuned_tokenizer, image_processor=finetuned_image_processor, image_url=image_url, question=standard_prompt)"
   ]
  },
  {
   "cell_type": "code",
   "execution_count": null,
   "metadata": {},
   "outputs": [],
   "source": [
    "# print(outputs)"
   ]
  },
  {
   "cell_type": "markdown",
   "metadata": {},
   "source": []
  }
 ],
 "metadata": {
  "kernelspec": {
   "display_name": "llava-med",
   "language": "python",
   "name": "python3"
  },
  "language_info": {
   "codemirror_mode": {
    "name": "ipython",
    "version": 3
   },
   "file_extension": ".py",
   "mimetype": "text/x-python",
   "name": "python",
   "nbconvert_exporter": "python",
   "pygments_lexer": "ipython3",
   "version": "3.10.15"
  }
 },
 "nbformat": 4,
 "nbformat_minor": 2
}
